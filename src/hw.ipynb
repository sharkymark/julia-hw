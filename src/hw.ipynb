{
 "cells": [
  {
   "cell_type": "code",
   "execution_count": 1,
   "id": "2fd90177-1c30-4d1f-a10a-06759a317cce",
   "metadata": {},
   "outputs": [
    {
     "data": {
      "text/plain": [
       "\"Hello, World!\""
      ]
     },
     "execution_count": 1,
     "metadata": {},
     "output_type": "execute_result"
    }
   ],
   "source": [
    "foo=\"Hello, World!\""
   ]
  },
  {
   "cell_type": "code",
   "execution_count": 2,
   "id": "b90be750-a23c-46bd-be13-6c81240ee899",
   "metadata": {},
   "outputs": [
    {
     "name": "stdout",
     "output_type": "stream",
     "text": [
      "Hello, World!\n"
     ]
    }
   ],
   "source": [
    "println(foo)"
   ]
  },
  {
   "cell_type": "code",
   "execution_count": 3,
   "id": "66e6d6d8-7e78-4cb8-855b-979b984124c9",
   "metadata": {},
   "outputs": [
    {
     "data": {
      "text/plain": [
       "3.14159"
      ]
     },
     "execution_count": 3,
     "metadata": {},
     "output_type": "execute_result"
    }
   ],
   "source": [
    "my_pi = 3.14159"
   ]
  },
  {
   "cell_type": "code",
   "execution_count": 4,
   "id": "9312e819-25a3-4cf8-8243-5ad0b72c302f",
   "metadata": {},
   "outputs": [],
   "source": [
    "# dynamic typing example"
   ]
  },
  {
   "cell_type": "code",
   "execution_count": 6,
   "id": "34f687aa-bf40-46f3-9359-75cb52a1e6ee",
   "metadata": {},
   "outputs": [
    {
     "data": {
      "text/plain": [
       "Float64"
      ]
     },
     "execution_count": 6,
     "metadata": {},
     "output_type": "execute_result"
    }
   ],
   "source": [
    "typeof(my_pi)"
   ]
  },
  {
   "cell_type": "code",
   "execution_count": 7,
   "id": "c1fa2e4c-b517-4452-8998-80fd4bbb1483",
   "metadata": {},
   "outputs": [
    {
     "data": {
      "text/plain": [
       "Int64"
      ]
     },
     "execution_count": 7,
     "metadata": {},
     "output_type": "execute_result"
    }
   ],
   "source": [
    "my_answer = 42\n",
    "typeof(my_answer)"
   ]
  },
  {
   "cell_type": "code",
   "execution_count": 8,
   "id": "05c0c1dc-bb86-4a39-b924-ac5cea66347e",
   "metadata": {},
   "outputs": [
    {
     "data": {
      "text/plain": [
       "String"
      ]
     },
     "execution_count": 8,
     "metadata": {},
     "output_type": "execute_result"
    }
   ],
   "source": [
    "🦈 = \"My great white shark!\"\n",
    "typeof(🦈)\n"
   ]
  },
  {
   "cell_type": "code",
   "execution_count": 9,
   "id": "31a46cd3-eca2-48b3-85c1-f195a1284c47",
   "metadata": {},
   "outputs": [
    {
     "name": "stdout",
     "output_type": "stream",
     "text": [
      "-1\n"
     ]
    }
   ],
   "source": [
    "🤭=0\n",
    "🥳=-1\n",
    "foo2=🥳+🤭\n",
    "println(foo2)"
   ]
  },
  {
   "cell_type": "code",
   "execution_count": 10,
   "id": "f6fc3c7d-4bc9-46a2-b62b-53b55aec2f4b",
   "metadata": {},
   "outputs": [],
   "source": [
    "#=\n",
    "Multi line comments\n",
    "bla\n",
    "bla\n",
    "=#"
   ]
  },
  {
   "cell_type": "code",
   "execution_count": 11,
   "id": "9604e16c-4bb2-47d0-b729-e0525d3fe327",
   "metadata": {},
   "outputs": [
    {
     "data": {
      "text/plain": [
       "10"
      ]
     },
     "execution_count": 11,
     "metadata": {},
     "output_type": "execute_result"
    }
   ],
   "source": [
    "sum=3+7"
   ]
  },
  {
   "cell_type": "code",
   "execution_count": 12,
   "id": "2558f8f7-9438-45eb-b4e7-ed4e2e85a0df",
   "metadata": {},
   "outputs": [
    {
     "data": {
      "text/plain": [
       "7"
      ]
     },
     "execution_count": 12,
     "metadata": {},
     "output_type": "execute_result"
    }
   ],
   "source": [
    "difference=10-3"
   ]
  },
  {
   "cell_type": "code",
   "execution_count": 13,
   "id": "4d3014ba-892c-4fc6-b646-b1e7fd7db596",
   "metadata": {},
   "outputs": [
    {
     "data": {
      "text/plain": [
       "100"
      ]
     },
     "execution_count": 13,
     "metadata": {},
     "output_type": "execute_result"
    }
   ],
   "source": [
    "product=20*5"
   ]
  },
  {
   "cell_type": "code",
   "execution_count": 14,
   "id": "c0e376a8-17df-4829-90bd-5072e3f8e520",
   "metadata": {},
   "outputs": [
    {
     "data": {
      "text/plain": [
       "10.0"
      ]
     },
     "execution_count": 14,
     "metadata": {},
     "output_type": "execute_result"
    }
   ],
   "source": [
    "quotient=100/10"
   ]
  },
  {
   "cell_type": "code",
   "execution_count": 15,
   "id": "b1f6a992-521d-4d07-ae5e-0f653dd3fc3d",
   "metadata": {},
   "outputs": [
    {
     "data": {
      "text/plain": [
       "100"
      ]
     },
     "execution_count": 15,
     "metadata": {},
     "output_type": "execute_result"
    }
   ],
   "source": [
    "power=10^2"
   ]
  },
  {
   "cell_type": "code",
   "execution_count": 16,
   "id": "a9edd7c2-14ad-4ad4-a4c6-e75eeeac4bbe",
   "metadata": {},
   "outputs": [
    {
     "data": {
      "text/plain": [
       "1"
      ]
     },
     "execution_count": 16,
     "metadata": {},
     "output_type": "execute_result"
    }
   ],
   "source": [
    "modulus=101%2"
   ]
  },
  {
   "cell_type": "code",
   "execution_count": null,
   "id": "ccea309a-ade6-4208-8ff3-0678d90a1db3",
   "metadata": {},
   "outputs": [],
   "source": []
  }
 ],
 "metadata": {
  "kernelspec": {
   "display_name": "Julia 1.10.1",
   "language": "julia",
   "name": "julia-1.10"
  },
  "language_info": {
   "file_extension": ".jl",
   "mimetype": "application/julia",
   "name": "julia",
   "version": "1.10.1"
  }
 },
 "nbformat": 4,
 "nbformat_minor": 5
}
